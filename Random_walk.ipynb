{
  "nbformat": 4,
  "nbformat_minor": 0,
  "metadata": {
    "colab": {
      "provenance": []
    },
    "kernelspec": {
      "name": "python3",
      "display_name": "Python 3"
    },
    "language_info": {
      "name": "python"
    }
  },
  "cells": [
    {
      "cell_type": "code",
      "execution_count": null,
      "metadata": {
        "id": "S2Q9ZYbfJqte"
      },
      "outputs": [],
      "source": [
        "import pandas as pd\n",
        "import numpy as np\n",
        "rn=[6,2,0,6,8,5,7,7,9,8,4,8,2,6,2,1,3,9,8,4]\n",
        "def rn_step(rn):\n",
        "    if rn>=0 and rn<=4:\n",
        "        return \"F\"\n",
        "    elif rn>=5 and rn<=7:\n",
        "        return \"L\"\n",
        "    elif rn>=8 and rn<=9:\n",
        "        return \"R\"\n",
        "Direction=[0 for i in range(20)]\n",
        "X_Coordinate=[0 for i in range(20)]\n",
        "Y_Coordinate=[0 for i in range(20)]\n",
        "step=list(range(1,21))"
      ]
    },
    {
      "cell_type": "code",
      "source": [
        "for i in range(20):\n",
        "  Direction[i]=rn_step(rn[i])\n",
        "  if i==0:\n",
        "    if Direction[i]==\"L\":\n",
        "          X_Coordinate[i]=X_Coordinate[i]-1\n",
        "    elif Direction[i]==\"R\":\n",
        "          X_Coordinate[i]=X_Coordinate[i]+1\n",
        "    elif Direction[i]==\"F\":\n",
        "          Y_Coordinate[i]=Y_Coordinate[i]+1\n",
        "\n",
        "  if i>0:\n",
        "    if Direction[i]==\"L\":\n",
        "          X_Coordinate[i]=X_Coordinate[i-1]-1\n",
        "          Y_Coordinate[i]=Y_Coordinate[i-1]\n",
        "    elif Direction[i]==\"R\":\n",
        "          X_Coordinate[i]=X_Coordinate[i-1]+1\n",
        "          Y_Coordinate[i]=Y_Coordinate[i-1]\n",
        "    elif Direction[i]==\"F\":\n",
        "          Y_Coordinate[i]=Y_Coordinate[i-1]+1\n",
        "          X_Coordinate[i]=X_Coordinate[i-1]\n",
        "\n",
        "df={\"step\":step,\"RN\":rn,'Direction':Direction,\"X Coordinate\":X_Coordinate,\"Y Coordinate\":Y_Coordinate}         \n",
        "df=pd.DataFrame(df)\n",
        "df.index = np.arange(1, len(df)+1)\n",
        "print(df)"
      ],
      "metadata": {
        "colab": {
          "base_uri": "https://localhost:8080/"
        },
        "id": "luCeYdhjKtK-",
        "outputId": "24b507d7-e48d-4cd9-d414-6f4eed2009be"
      },
      "execution_count": null,
      "outputs": [
        {
          "output_type": "stream",
          "name": "stdout",
          "text": [
            "    step  RN Direction  X Coordinate  Y Coordinate\n",
            "1      1   6         L            -1             0\n",
            "2      2   2         F            -1             1\n",
            "3      3   0         F            -1             2\n",
            "4      4   6         L            -2             2\n",
            "5      5   8         R            -1             2\n",
            "6      6   5         L            -2             2\n",
            "7      7   7         L            -3             2\n",
            "8      8   7         L            -4             2\n",
            "9      9   9         R            -3             2\n",
            "10    10   8         R            -2             2\n",
            "11    11   4         F            -2             3\n",
            "12    12   8         R            -1             3\n",
            "13    13   2         F            -1             4\n",
            "14    14   6         L            -2             4\n",
            "15    15   2         F            -2             5\n",
            "16    16   1         F            -2             6\n",
            "17    17   3         F            -2             7\n",
            "18    18   9         R            -1             7\n",
            "19    19   8         R             0             7\n",
            "20    20   4         F             0             8\n"
          ]
        }
      ]
    }
  ]
}