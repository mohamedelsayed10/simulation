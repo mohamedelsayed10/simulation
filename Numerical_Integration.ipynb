{
  "nbformat": 4,
  "nbformat_minor": 0,
  "metadata": {
    "colab": {
      "provenance": []
    },
    "kernelspec": {
      "name": "python3",
      "display_name": "Python 3"
    },
    "language_info": {
      "name": "python"
    }
  },
  "cells": [
    {
      "cell_type": "code",
      "execution_count": null,
      "metadata": {
        "id": "mbgmiezR1SsS"
      },
      "outputs": [],
      "source": [
        "import numpy as np\n",
        "import pandas as pd\n",
        "x=[22,25,18,45,25,27,48,43,40,47,38,33,24,47,42,25,33,50,34,21]\n",
        "y=[57,18,0,90,5,77,66,10,76,42,78,88,3,9,77,61,27,60,29,40]\n"
      ]
    },
    {
      "cell_type": "code",
      "source": [
        "x_coordinate=[0 for i in range(20)]\n",
        "y_coordinate=[0 for i in range(20)]\n",
        "func=[0 for i in range(20)]\n",
        "m=[0 for i in range(20)]\n",
        "n=list(range(1,21))\n",
        "A=(5-2)*140"
      ],
      "metadata": {
        "id": "FZaS41AZ3Ylo"
      },
      "execution_count": null,
      "outputs": []
    },
    {
      "cell_type": "code",
      "source": [
        "for i in range(20):\n",
        "  x_coordinate[i]=x[i]*0.1\n",
        "  y_coordinate[i]=y[i]*0.01*140\n",
        "  func[i]=x_coordinate[i]**3\n",
        "  if i==0:\n",
        "    if func[i]>y_coordinate[i]:\n",
        "      m[i]=m[i]+1\n",
        "  if i>0:\n",
        "    if func[i]>y_coordinate[i]:\n",
        "      m[i]=m[i-1]+1\n",
        "    else:\n",
        "      m[i]=m[i-1]\n",
        "      \n",
        "df={\"x\":x,\"x coordinate\":x_coordinate,\"y\":y,\"y coordinate\":y_coordinate,\"x^3\":func,\"M\":m,\"N\":n}         \n",
        "df=pd.DataFrame(df)\n",
        "df.index = np.arange(1, len(df)+1)\n",
        "print(df)\n",
        "print(\"                         \")\n",
        "print(\"The value of the integral is\",(m[-1]/n[-1])*A)"
      ],
      "metadata": {
        "colab": {
          "base_uri": "https://localhost:8080/"
        },
        "id": "GlcLgGBO3w-F",
        "outputId": "7ebfb1be-64c0-4245-df44-c2a98072d0ef"
      },
      "execution_count": null,
      "outputs": [
        {
          "output_type": "stream",
          "name": "stdout",
          "text": [
            "     x  x coordinate   y  y coordinate      x^3  M   N\n",
            "1   22           2.2  57          79.8   10.648  0   1\n",
            "2   25           2.5  18          25.2   15.625  0   2\n",
            "3   18           1.8   0           0.0    5.832  1   3\n",
            "4   45           4.5  90         126.0   91.125  1   4\n",
            "5   25           2.5   5           7.0   15.625  2   5\n",
            "6   27           2.7  77         107.8   19.683  2   6\n",
            "7   48           4.8  66          92.4  110.592  3   7\n",
            "8   43           4.3  10          14.0   79.507  4   8\n",
            "9   40           4.0  76         106.4   64.000  4   9\n",
            "10  47           4.7  42          58.8  103.823  5  10\n",
            "11  38           3.8  78         109.2   54.872  5  11\n",
            "12  33           3.3  88         123.2   35.937  5  12\n",
            "13  24           2.4   3           4.2   13.824  6  13\n",
            "14  47           4.7   9          12.6  103.823  7  14\n",
            "15  42           4.2  77         107.8   74.088  7  15\n",
            "16  25           2.5  61          85.4   15.625  7  16\n",
            "17  33           3.3  27          37.8   35.937  7  17\n",
            "18  50           5.0  60          84.0  125.000  8  18\n",
            "19  34           3.4  29          40.6   39.304  8  19\n",
            "20  21           2.1  40          56.0    9.261  8  20\n",
            "                         \n",
            "The value of the integral is 168.0\n"
          ]
        }
      ]
    }
  ]
}