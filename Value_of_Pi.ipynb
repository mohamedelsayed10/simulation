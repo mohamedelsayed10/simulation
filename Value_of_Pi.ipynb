{
  "nbformat": 4,
  "nbformat_minor": 0,
  "metadata": {
    "colab": {
      "provenance": []
    },
    "kernelspec": {
      "name": "python3",
      "display_name": "Python 3"
    },
    "language_info": {
      "name": "python"
    }
  },
  "cells": [
    {
      "cell_type": "code",
      "execution_count": null,
      "metadata": {
        "id": "FKp4xwov_2Qr"
      },
      "outputs": [],
      "source": [
        "import math\n",
        "import numpy as np\n",
        "import pandas as pd\n",
        "x=[82,34,20,58,52,51,34,72,50,8,76,33,35,29,95,84,34,85,58,69,48,51,6,22,80,56,6,92,51,13,65,60,51,50,13,94,51,26,78,33]\n",
        "y=[95,14,84,14,3,60,38,11,55,21,18,81,96,57,47,51,68,11,92,59,37,72,33,90,76,29,66,40,11,44,74,27,16,41,20,68,95,28,75,16]"
      ]
    },
    {
      "cell_type": "code",
      "source": [
        "R1=[0 for i in range(40)]\n",
        "R2=[0 for i in range(40)]\n",
        "func=[0 for i in range(40)]\n",
        "Decision=[0 for i in range(40)]\n",
        "count=0"
      ],
      "metadata": {
        "id": "r2h23Pc1CtRj"
      },
      "execution_count": null,
      "outputs": []
    },
    {
      "cell_type": "code",
      "source": [
        "for i in range(40):\n",
        "  R1[i]=x[i]*0.01\n",
        "  R2[i]=y[i]*0.01\n",
        "  func[i]=math.sqrt(1-(R1[i]**2))\n",
        "  if func[i]>R2[i]:\n",
        "    Decision[i]=\"IN\"\n",
        "  else:\n",
        "    Decision[i]=\"OUT\"\n",
        "df={\"R1\":R1,\"R2\":R2,\"sqrt(1-R1^2)\":func,\"Decision\":Decision}         \n",
        "df=pd.DataFrame(df)\n",
        "df.index = np.arange(1, len(df)+1)\n",
        "print(df)\n",
        "print(\"                         \")\n",
        "for i in Decision:\n",
        "  if i==\"IN\":\n",
        "    count=count+1\n",
        "print(\"the value of pi is \",(count/len(R1))*4)\n"
      ],
      "metadata": {
        "colab": {
          "base_uri": "https://localhost:8080/"
        },
        "id": "5EWHwmTDE_kS",
        "outputId": "27915aa9-3b91-45bc-c148-23acbff24708"
      },
      "execution_count": null,
      "outputs": [
        {
          "output_type": "stream",
          "name": "stdout",
          "text": [
            "      R1    R2  sqrt(1-R1^2) Decision\n",
            "1   0.82  0.95      0.572364      OUT\n",
            "2   0.34  0.14      0.940425       IN\n",
            "3   0.20  0.84      0.979796       IN\n",
            "4   0.58  0.14      0.814616       IN\n",
            "5   0.52  0.03      0.854166       IN\n",
            "6   0.51  0.60      0.860174       IN\n",
            "7   0.34  0.38      0.940425       IN\n",
            "8   0.72  0.11      0.693974       IN\n",
            "9   0.50  0.55      0.866025       IN\n",
            "10  0.08  0.21      0.996795       IN\n",
            "11  0.76  0.18      0.649923       IN\n",
            "12  0.33  0.81      0.943981       IN\n",
            "13  0.35  0.96      0.936750      OUT\n",
            "14  0.29  0.57      0.957027       IN\n",
            "15  0.95  0.47      0.312250      OUT\n",
            "16  0.84  0.51      0.542586       IN\n",
            "17  0.34  0.68      0.940425       IN\n",
            "18  0.85  0.11      0.526783       IN\n",
            "19  0.58  0.92      0.814616      OUT\n",
            "20  0.69  0.59      0.723809       IN\n",
            "21  0.48  0.37      0.877268       IN\n",
            "22  0.51  0.72      0.860174       IN\n",
            "23  0.06  0.33      0.998198       IN\n",
            "24  0.22  0.90      0.975500       IN\n",
            "25  0.80  0.76      0.600000      OUT\n",
            "26  0.56  0.29      0.828493       IN\n",
            "27  0.06  0.66      0.998198       IN\n",
            "28  0.92  0.40      0.391918      OUT\n",
            "29  0.51  0.11      0.860174       IN\n",
            "30  0.13  0.44      0.991514       IN\n",
            "31  0.65  0.74      0.759934       IN\n",
            "32  0.60  0.27      0.800000       IN\n",
            "33  0.51  0.16      0.860174       IN\n",
            "34  0.50  0.41      0.866025       IN\n",
            "35  0.13  0.20      0.991514       IN\n",
            "36  0.94  0.68      0.341174      OUT\n",
            "37  0.51  0.95      0.860174      OUT\n",
            "38  0.26  0.28      0.965609       IN\n",
            "39  0.78  0.75      0.625780      OUT\n",
            "40  0.33  0.16      0.943981       IN\n",
            "                         \n",
            "the value of pi is  3.1\n"
          ]
        }
      ]
    }
  ]
}